{
 "cells": [
  {
   "cell_type": "markdown",
   "id": "5ca92681",
   "metadata": {},
   "source": [
    "# Content Based Filtering"
   ]
  },
  {
   "cell_type": "markdown",
   "id": "700f8af0",
   "metadata": {},
   "source": [
    "Data source: https://www.kaggle.com/datasets/anthonypino/melbourne-housing-market\n",
    "\n",
    "The goal of this notebook is to take data about houses in Melbourne and create a Nearest Neighbours model using sklearn to find similar houses based on search information."
   ]
  },
  {
   "cell_type": "markdown",
   "id": "ec9ab636",
   "metadata": {},
   "source": [
    "### Imports"
   ]
  },
  {
   "cell_type": "code",
   "execution_count": 1,
   "id": "9fb80c00",
   "metadata": {},
   "outputs": [],
   "source": [
    "import pandas as pd\n",
    "from sklearn.neighbors import NearestNeighbors\n",
    "\n",
    "#For user input at the bottom of the notebook\n",
    "import ipywidgets as widgets\n",
    "from IPython.display import display"
   ]
  },
  {
   "cell_type": "markdown",
   "id": "147aa32c",
   "metadata": {},
   "source": [
    "### Load data"
   ]
  },
  {
   "cell_type": "code",
   "execution_count": 2,
   "id": "1386c038",
   "metadata": {},
   "outputs": [
    {
     "data": {
      "text/html": [
       "<div>\n",
       "<style scoped>\n",
       "    .dataframe tbody tr th:only-of-type {\n",
       "        vertical-align: middle;\n",
       "    }\n",
       "\n",
       "    .dataframe tbody tr th {\n",
       "        vertical-align: top;\n",
       "    }\n",
       "\n",
       "    .dataframe thead th {\n",
       "        text-align: right;\n",
       "    }\n",
       "</style>\n",
       "<table border=\"1\" class=\"dataframe\">\n",
       "  <thead>\n",
       "    <tr style=\"text-align: right;\">\n",
       "      <th></th>\n",
       "      <th>Suburb</th>\n",
       "      <th>Address</th>\n",
       "      <th>Rooms</th>\n",
       "      <th>Type</th>\n",
       "      <th>Price</th>\n",
       "      <th>Method</th>\n",
       "      <th>SellerG</th>\n",
       "      <th>Date</th>\n",
       "      <th>Distance</th>\n",
       "      <th>Postcode</th>\n",
       "      <th>...</th>\n",
       "      <th>Bathroom</th>\n",
       "      <th>Car</th>\n",
       "      <th>Landsize</th>\n",
       "      <th>BuildingArea</th>\n",
       "      <th>YearBuilt</th>\n",
       "      <th>CouncilArea</th>\n",
       "      <th>Lattitude</th>\n",
       "      <th>Longtitude</th>\n",
       "      <th>Regionname</th>\n",
       "      <th>Propertycount</th>\n",
       "    </tr>\n",
       "  </thead>\n",
       "  <tbody>\n",
       "    <tr>\n",
       "      <th>0</th>\n",
       "      <td>Abbotsford</td>\n",
       "      <td>68 Studley St</td>\n",
       "      <td>2</td>\n",
       "      <td>h</td>\n",
       "      <td>NaN</td>\n",
       "      <td>SS</td>\n",
       "      <td>Jellis</td>\n",
       "      <td>3/09/2016</td>\n",
       "      <td>2.5</td>\n",
       "      <td>3067.0</td>\n",
       "      <td>...</td>\n",
       "      <td>1.0</td>\n",
       "      <td>1.0</td>\n",
       "      <td>126.0</td>\n",
       "      <td>NaN</td>\n",
       "      <td>NaN</td>\n",
       "      <td>Yarra City Council</td>\n",
       "      <td>-37.8014</td>\n",
       "      <td>144.9958</td>\n",
       "      <td>Northern Metropolitan</td>\n",
       "      <td>4019.0</td>\n",
       "    </tr>\n",
       "    <tr>\n",
       "      <th>1</th>\n",
       "      <td>Abbotsford</td>\n",
       "      <td>85 Turner St</td>\n",
       "      <td>2</td>\n",
       "      <td>h</td>\n",
       "      <td>1480000.0</td>\n",
       "      <td>S</td>\n",
       "      <td>Biggin</td>\n",
       "      <td>3/12/2016</td>\n",
       "      <td>2.5</td>\n",
       "      <td>3067.0</td>\n",
       "      <td>...</td>\n",
       "      <td>1.0</td>\n",
       "      <td>1.0</td>\n",
       "      <td>202.0</td>\n",
       "      <td>NaN</td>\n",
       "      <td>NaN</td>\n",
       "      <td>Yarra City Council</td>\n",
       "      <td>-37.7996</td>\n",
       "      <td>144.9984</td>\n",
       "      <td>Northern Metropolitan</td>\n",
       "      <td>4019.0</td>\n",
       "    </tr>\n",
       "    <tr>\n",
       "      <th>2</th>\n",
       "      <td>Abbotsford</td>\n",
       "      <td>25 Bloomburg St</td>\n",
       "      <td>2</td>\n",
       "      <td>h</td>\n",
       "      <td>1035000.0</td>\n",
       "      <td>S</td>\n",
       "      <td>Biggin</td>\n",
       "      <td>4/02/2016</td>\n",
       "      <td>2.5</td>\n",
       "      <td>3067.0</td>\n",
       "      <td>...</td>\n",
       "      <td>1.0</td>\n",
       "      <td>0.0</td>\n",
       "      <td>156.0</td>\n",
       "      <td>79.0</td>\n",
       "      <td>1900.0</td>\n",
       "      <td>Yarra City Council</td>\n",
       "      <td>-37.8079</td>\n",
       "      <td>144.9934</td>\n",
       "      <td>Northern Metropolitan</td>\n",
       "      <td>4019.0</td>\n",
       "    </tr>\n",
       "    <tr>\n",
       "      <th>3</th>\n",
       "      <td>Abbotsford</td>\n",
       "      <td>18/659 Victoria St</td>\n",
       "      <td>3</td>\n",
       "      <td>u</td>\n",
       "      <td>NaN</td>\n",
       "      <td>VB</td>\n",
       "      <td>Rounds</td>\n",
       "      <td>4/02/2016</td>\n",
       "      <td>2.5</td>\n",
       "      <td>3067.0</td>\n",
       "      <td>...</td>\n",
       "      <td>2.0</td>\n",
       "      <td>1.0</td>\n",
       "      <td>0.0</td>\n",
       "      <td>NaN</td>\n",
       "      <td>NaN</td>\n",
       "      <td>Yarra City Council</td>\n",
       "      <td>-37.8114</td>\n",
       "      <td>145.0116</td>\n",
       "      <td>Northern Metropolitan</td>\n",
       "      <td>4019.0</td>\n",
       "    </tr>\n",
       "    <tr>\n",
       "      <th>4</th>\n",
       "      <td>Abbotsford</td>\n",
       "      <td>5 Charles St</td>\n",
       "      <td>3</td>\n",
       "      <td>h</td>\n",
       "      <td>1465000.0</td>\n",
       "      <td>SP</td>\n",
       "      <td>Biggin</td>\n",
       "      <td>4/03/2017</td>\n",
       "      <td>2.5</td>\n",
       "      <td>3067.0</td>\n",
       "      <td>...</td>\n",
       "      <td>2.0</td>\n",
       "      <td>0.0</td>\n",
       "      <td>134.0</td>\n",
       "      <td>150.0</td>\n",
       "      <td>1900.0</td>\n",
       "      <td>Yarra City Council</td>\n",
       "      <td>-37.8093</td>\n",
       "      <td>144.9944</td>\n",
       "      <td>Northern Metropolitan</td>\n",
       "      <td>4019.0</td>\n",
       "    </tr>\n",
       "  </tbody>\n",
       "</table>\n",
       "<p>5 rows × 21 columns</p>\n",
       "</div>"
      ],
      "text/plain": [
       "       Suburb             Address  Rooms Type      Price Method SellerG  \\\n",
       "0  Abbotsford       68 Studley St      2    h        NaN     SS  Jellis   \n",
       "1  Abbotsford        85 Turner St      2    h  1480000.0      S  Biggin   \n",
       "2  Abbotsford     25 Bloomburg St      2    h  1035000.0      S  Biggin   \n",
       "3  Abbotsford  18/659 Victoria St      3    u        NaN     VB  Rounds   \n",
       "4  Abbotsford        5 Charles St      3    h  1465000.0     SP  Biggin   \n",
       "\n",
       "        Date  Distance  Postcode  ...  Bathroom  Car  Landsize  BuildingArea  \\\n",
       "0  3/09/2016       2.5    3067.0  ...       1.0  1.0     126.0           NaN   \n",
       "1  3/12/2016       2.5    3067.0  ...       1.0  1.0     202.0           NaN   \n",
       "2  4/02/2016       2.5    3067.0  ...       1.0  0.0     156.0          79.0   \n",
       "3  4/02/2016       2.5    3067.0  ...       2.0  1.0       0.0           NaN   \n",
       "4  4/03/2017       2.5    3067.0  ...       2.0  0.0     134.0         150.0   \n",
       "\n",
       "   YearBuilt         CouncilArea Lattitude  Longtitude             Regionname  \\\n",
       "0        NaN  Yarra City Council  -37.8014    144.9958  Northern Metropolitan   \n",
       "1        NaN  Yarra City Council  -37.7996    144.9984  Northern Metropolitan   \n",
       "2     1900.0  Yarra City Council  -37.8079    144.9934  Northern Metropolitan   \n",
       "3        NaN  Yarra City Council  -37.8114    145.0116  Northern Metropolitan   \n",
       "4     1900.0  Yarra City Council  -37.8093    144.9944  Northern Metropolitan   \n",
       "\n",
       "  Propertycount  \n",
       "0        4019.0  \n",
       "1        4019.0  \n",
       "2        4019.0  \n",
       "3        4019.0  \n",
       "4        4019.0  \n",
       "\n",
       "[5 rows x 21 columns]"
      ]
     },
     "execution_count": 2,
     "metadata": {},
     "output_type": "execute_result"
    }
   ],
   "source": [
    "file = \"Melbourne_housing_FULL.csv\"\n",
    "df = pd.read_csv(file)\n",
    "df.head()"
   ]
  },
  {
   "cell_type": "markdown",
   "id": "4c2199ed",
   "metadata": {},
   "source": [
    "Check for empty values in the dataset and drop them."
   ]
  },
  {
   "cell_type": "code",
   "execution_count": 3,
   "id": "3ce0193e",
   "metadata": {},
   "outputs": [
    {
     "data": {
      "text/plain": [
       "Suburb               0\n",
       "Address              0\n",
       "Rooms                0\n",
       "Type                 0\n",
       "Price             7610\n",
       "Method               0\n",
       "SellerG              0\n",
       "Date                 0\n",
       "Distance             1\n",
       "Postcode             1\n",
       "Bedroom2          8217\n",
       "Bathroom          8226\n",
       "Car               8728\n",
       "Landsize         11810\n",
       "BuildingArea     21115\n",
       "YearBuilt        19306\n",
       "CouncilArea          3\n",
       "Lattitude         7976\n",
       "Longtitude        7976\n",
       "Regionname           3\n",
       "Propertycount        3\n",
       "dtype: int64"
      ]
     },
     "execution_count": 3,
     "metadata": {},
     "output_type": "execute_result"
    }
   ],
   "source": [
    "df.isnull().sum()"
   ]
  },
  {
   "cell_type": "code",
   "execution_count": 4,
   "id": "7b6f6355",
   "metadata": {},
   "outputs": [],
   "source": [
    "df.dropna(inplace=True)"
   ]
  },
  {
   "cell_type": "markdown",
   "id": "c844f519",
   "metadata": {},
   "source": [
    "Define the feature columns and the enter some values for a simulated search for the modle to predict off of."
   ]
  },
  {
   "cell_type": "code",
   "execution_count": 25,
   "id": "998906f1",
   "metadata": {},
   "outputs": [],
   "source": [
    "X = df.loc[: , [\"Price\",\"Distance\",\"Bedroom2\", \"Bathroom\",\"Landsize\", \"BuildingArea\", \"YearBuilt\"]].values\n",
    "search_params = [1350000, 2,2,3,220,200,2005]"
   ]
  },
  {
   "cell_type": "markdown",
   "id": "b824401d",
   "metadata": {},
   "source": [
    "Fit the model to find the closest three neighbours."
   ]
  },
  {
   "cell_type": "code",
   "execution_count": 26,
   "id": "11ee7ebc",
   "metadata": {},
   "outputs": [],
   "source": [
    "model = NearestNeighbors(n_neighbors=3).fit(X)"
   ]
  },
  {
   "cell_type": "code",
   "execution_count": 27,
   "id": "5033acf1",
   "metadata": {},
   "outputs": [],
   "source": [
    "results = model.kneighbors([search_params])"
   ]
  },
  {
   "cell_type": "markdown",
   "id": "733d6d5d",
   "metadata": {},
   "source": [
    "Results shows the distances and the location of the nearest neighbors in the dataframe."
   ]
  },
  {
   "cell_type": "code",
   "execution_count": 37,
   "id": "26aca5fc",
   "metadata": {},
   "outputs": [
    {
     "data": {
      "text/plain": [
       "(array([[11.75797602, 17.0926885 , 46.65715379]]),\n",
       " array([[   6, 3002, 6669]], dtype=int64))"
      ]
     },
     "execution_count": 37,
     "metadata": {},
     "output_type": "execute_result"
    }
   ],
   "source": [
    "results"
   ]
  },
  {
   "cell_type": "markdown",
   "id": "67e7aea4",
   "metadata": {},
   "source": [
    "The below code will print the most similar property in relation to the search parameters."
   ]
  },
  {
   "cell_type": "code",
   "execution_count": 29,
   "id": "3dcde26d",
   "metadata": {},
   "outputs": [
    {
     "data": {
      "text/plain": [
       "Suburb                      Abbotsford\n",
       "Address                40 Nicholson St\n",
       "Rooms                                3\n",
       "Type                                 h\n",
       "Price                        1350000.0\n",
       "Method                              VB\n",
       "SellerG                         Nelson\n",
       "Date                        12/11/2016\n",
       "Distance                           2.5\n",
       "Postcode                        3067.0\n",
       "Bedroom2                           3.0\n",
       "Bathroom                           2.0\n",
       "Car                                2.0\n",
       "Landsize                         214.0\n",
       "BuildingArea                     190.0\n",
       "YearBuilt                       2005.0\n",
       "CouncilArea         Yarra City Council\n",
       "Lattitude                     -37.8085\n",
       "Longtitude                    144.9964\n",
       "Regionname       Northern Metropolitan\n",
       "Propertycount                   4019.0\n",
       "Name: 24, dtype: object"
      ]
     },
     "execution_count": 29,
     "metadata": {},
     "output_type": "execute_result"
    }
   ],
   "source": [
    "df.iloc[6] #TRY 6, 3002, 6669  "
   ]
  },
  {
   "cell_type": "markdown",
   "id": "28099b03",
   "metadata": {},
   "source": [
    "Here we can see the first recommendation the mode makes. The property shown has similar characteristics to the search parameters. Below are some sliders to make for an easier time searching for new parameter. This will also show one of the drawbacks of this system that being a small dataset."
   ]
  },
  {
   "cell_type": "markdown",
   "id": "de1df207",
   "metadata": {},
   "source": [
    "### Time to make a function to allow for easier use"
   ]
  },
  {
   "cell_type": "code",
   "execution_count": 38,
   "id": "bb26e975",
   "metadata": {},
   "outputs": [],
   "source": [
    "def recommend(price, distance, bedroom, bathroom, landsize, buildingarea , year):\n",
    "    #Print the best three matches for the search params given\n",
    "    search = [price, distance, bedroom, bathroom, landsize, buildingarea, year]\n",
    "    results = model.kneighbors([search])\n",
    "    print(f\"\\nRecommendation 1: \\n{df.iloc[results[1][0][0]]}\")\n",
    "    print(f\"\\nRecommendation 2: \\n{df.iloc[results[1][0][1]]}\")\n",
    "    print(f\"\\nRecommendation 3: \\n{df.iloc[results[1][0][2]]}\")"
   ]
  },
  {
   "cell_type": "code",
   "execution_count": 39,
   "id": "79d282ce",
   "metadata": {},
   "outputs": [
    {
     "data": {
      "application/vnd.jupyter.widget-view+json": {
       "model_id": "fd1807d5ea0e4bb0beeda27e2bcb5845",
       "version_major": 2,
       "version_minor": 0
      },
      "text/plain": [
       "IntSlider(value=500000, description='Price:', max=9000000, min=131000, step=5000)"
      ]
     },
     "metadata": {},
     "output_type": "display_data"
    },
    {
     "data": {
      "application/vnd.jupyter.widget-view+json": {
       "model_id": "0941feeb6f2c4f698da6dc9ccaae0eff",
       "version_major": 2,
       "version_minor": 0
      },
      "text/plain": [
       "FloatSlider(value=2.0, description='Distance:', max=47.4)"
      ]
     },
     "metadata": {},
     "output_type": "display_data"
    },
    {
     "data": {
      "application/vnd.jupyter.widget-view+json": {
       "model_id": "15cc15a5fd654e04ab3ff16492cc9565",
       "version_major": 2,
       "version_minor": 0
      },
      "text/plain": [
       "Dropdown(description='Bedrooms:', options=(0, 1, 2, 3, 4, 5, 6, 7, 8, 9, 10, 11), value=0)"
      ]
     },
     "metadata": {},
     "output_type": "display_data"
    },
    {
     "data": {
      "application/vnd.jupyter.widget-view+json": {
       "model_id": "a09c744bb37245e6ada05f9ede6ddcd6",
       "version_major": 2,
       "version_minor": 0
      },
      "text/plain": [
       "Dropdown(description='Bathrooms:', options=(1, 2, 3, 4, 5, 6, 7, 8), value=1)"
      ]
     },
     "metadata": {},
     "output_type": "display_data"
    },
    {
     "data": {
      "application/vnd.jupyter.widget-view+json": {
       "model_id": "49c78b05b9e54157b8e426ad360ff434",
       "version_major": 2,
       "version_minor": 0
      },
      "text/plain": [
       "FloatSlider(value=20000.0, description='Landsize:', max=42800.0)"
      ]
     },
     "metadata": {},
     "output_type": "display_data"
    },
    {
     "data": {
      "application/vnd.jupyter.widget-view+json": {
       "model_id": "1b6f68c2b6624baeaf886e2056ce62e2",
       "version_major": 2,
       "version_minor": 0
      },
      "text/plain": [
       "FloatSlider(value=2.0, description='Building Area:', max=3112.0)"
      ]
     },
     "metadata": {},
     "output_type": "display_data"
    },
    {
     "data": {
      "application/vnd.jupyter.widget-view+json": {
       "model_id": "e61e85fd7e584b9b9daebd2a0c7f2006",
       "version_major": 2,
       "version_minor": 0
      },
      "text/plain": [
       "IntSlider(value=1600, description='YearBuilt:', max=2019, min=1196)"
      ]
     },
     "metadata": {},
     "output_type": "display_data"
    },
    {
     "data": {
      "application/vnd.jupyter.widget-view+json": {
       "model_id": "8e964d66c30447dd969b010cbcd23d68",
       "version_major": 2,
       "version_minor": 0
      },
      "text/plain": [
       "Button(description='Search', style=ButtonStyle())"
      ]
     },
     "metadata": {},
     "output_type": "display_data"
    },
    {
     "data": {
      "application/vnd.jupyter.widget-view+json": {
       "model_id": "8e964d66c30447dd969b010cbcd23d68",
       "version_major": 2,
       "version_minor": 0
      },
      "text/plain": [
       "Button(description='Search', style=ButtonStyle())"
      ]
     },
     "metadata": {},
     "output_type": "display_data"
    },
    {
     "name": "stdout",
     "output_type": "stream",
     "text": [
      "Searching...\n",
      " \n",
      "\n",
      "Recommendation 1: \n",
      "Suburb                           Donvale\n",
      "Address                    1 Bernarra Ct\n",
      "Rooms                                  7\n",
      "Type                                   h\n",
      "Price                          2705000.0\n",
      "Method                                 S\n",
      "SellerG                              Ray\n",
      "Date                           1/07/2017\n",
      "Distance                            16.1\n",
      "Postcode                          3111.0\n",
      "Bedroom2                             7.0\n",
      "Bathroom                             2.0\n",
      "Car                                  4.0\n",
      "Landsize                          5022.0\n",
      "BuildingArea                      409.54\n",
      "YearBuilt                         2004.0\n",
      "CouncilArea      Manningham City Council\n",
      "Lattitude                      -37.76598\n",
      "Longtitude                     145.19329\n",
      "Regionname          Eastern Metropolitan\n",
      "Propertycount                     4790.0\n",
      "Name: 14342, dtype: object\n",
      "\n",
      "Recommendation 2: \n",
      "Suburb                    Carlton North\n",
      "Address                 967 Drummond St\n",
      "Rooms                                 4\n",
      "Type                                  h\n",
      "Price                         2718000.0\n",
      "Method                                S\n",
      "SellerG                             Ray\n",
      "Date                         11/03/2017\n",
      "Distance                            3.2\n",
      "Postcode                         3054.0\n",
      "Bedroom2                            4.0\n",
      "Bathroom                            2.0\n",
      "Car                                 0.0\n",
      "Landsize                          538.0\n",
      "BuildingArea                      142.0\n",
      "YearBuilt                        2015.0\n",
      "CouncilArea      Melbourne City Council\n",
      "Lattitude                      -37.7816\n",
      "Longtitude                     144.9714\n",
      "Regionname        Northern Metropolitan\n",
      "Propertycount                    3106.0\n",
      "Name: 2891, dtype: object\n",
      "\n",
      "Recommendation 3: \n",
      "Suburb                       Williamstown\n",
      "Address                      16 Hannan St\n",
      "Rooms                                   5\n",
      "Type                                    h\n",
      "Price                           2720000.0\n",
      "Method                                  S\n",
      "SellerG                               Jas\n",
      "Date                            3/03/2018\n",
      "Distance                              6.8\n",
      "Postcode                           3016.0\n",
      "Bedroom2                              5.0\n",
      "Bathroom                              2.0\n",
      "Car                                   1.0\n",
      "Landsize                            655.0\n",
      "BuildingArea                        244.0\n",
      "YearBuilt                          1910.0\n",
      "CouncilArea      Hobsons Bay City Council\n",
      "Lattitude                       -37.86605\n",
      "Longtitude                      144.88686\n",
      "Regionname           Western Metropolitan\n",
      "Propertycount                      6380.0\n",
      "Name: 32245, dtype: object\n",
      "Searching...\n",
      " \n",
      "\n",
      "Recommendation 1: \n",
      "Suburb                           Donvale\n",
      "Address                    1 Bernarra Ct\n",
      "Rooms                                  7\n",
      "Type                                   h\n",
      "Price                          2705000.0\n",
      "Method                                 S\n",
      "SellerG                              Ray\n",
      "Date                           1/07/2017\n",
      "Distance                            16.1\n",
      "Postcode                          3111.0\n",
      "Bedroom2                             7.0\n",
      "Bathroom                             2.0\n",
      "Car                                  4.0\n",
      "Landsize                          5022.0\n",
      "BuildingArea                      409.54\n",
      "YearBuilt                         2004.0\n",
      "CouncilArea      Manningham City Council\n",
      "Lattitude                      -37.76598\n",
      "Longtitude                     145.19329\n",
      "Regionname          Eastern Metropolitan\n",
      "Propertycount                     4790.0\n",
      "Name: 14342, dtype: object\n",
      "\n",
      "Recommendation 2: \n",
      "Suburb                    Carlton North\n",
      "Address                 967 Drummond St\n",
      "Rooms                                 4\n",
      "Type                                  h\n",
      "Price                         2718000.0\n",
      "Method                                S\n",
      "SellerG                             Ray\n",
      "Date                         11/03/2017\n",
      "Distance                            3.2\n",
      "Postcode                         3054.0\n",
      "Bedroom2                            4.0\n",
      "Bathroom                            2.0\n",
      "Car                                 0.0\n",
      "Landsize                          538.0\n",
      "BuildingArea                      142.0\n",
      "YearBuilt                        2015.0\n",
      "CouncilArea      Melbourne City Council\n",
      "Lattitude                      -37.7816\n",
      "Longtitude                     144.9714\n",
      "Regionname        Northern Metropolitan\n",
      "Propertycount                    3106.0\n",
      "Name: 2891, dtype: object\n",
      "\n",
      "Recommendation 3: \n",
      "Suburb                       Williamstown\n",
      "Address                      16 Hannan St\n",
      "Rooms                                   5\n",
      "Type                                    h\n",
      "Price                           2720000.0\n",
      "Method                                  S\n",
      "SellerG                               Jas\n",
      "Date                            3/03/2018\n",
      "Distance                              6.8\n",
      "Postcode                           3016.0\n",
      "Bedroom2                              5.0\n",
      "Bathroom                              2.0\n",
      "Car                                   1.0\n",
      "Landsize                            655.0\n",
      "BuildingArea                        244.0\n",
      "YearBuilt                          1910.0\n",
      "CouncilArea      Hobsons Bay City Council\n",
      "Lattitude                       -37.86605\n",
      "Longtitude                      144.88686\n",
      "Regionname           Western Metropolitan\n",
      "Propertycount                      6380.0\n",
      "Name: 32245, dtype: object\n",
      "Searching...\n",
      " \n",
      "\n",
      "Recommendation 1: \n",
      "Suburb                    Carlton North\n",
      "Address                 967 Drummond St\n",
      "Rooms                                 4\n",
      "Type                                  h\n",
      "Price                         2718000.0\n",
      "Method                                S\n",
      "SellerG                             Ray\n",
      "Date                         11/03/2017\n",
      "Distance                            3.2\n",
      "Postcode                         3054.0\n",
      "Bedroom2                            4.0\n",
      "Bathroom                            2.0\n",
      "Car                                 0.0\n",
      "Landsize                          538.0\n",
      "BuildingArea                      142.0\n",
      "YearBuilt                        2015.0\n",
      "CouncilArea      Melbourne City Council\n",
      "Lattitude                      -37.7816\n",
      "Longtitude                     144.9714\n",
      "Regionname        Northern Metropolitan\n",
      "Propertycount                    3106.0\n",
      "Name: 2891, dtype: object\n",
      "\n",
      "Recommendation 2: \n",
      "Suburb                       Williamstown\n",
      "Address                      16 Hannan St\n",
      "Rooms                                   5\n",
      "Type                                    h\n",
      "Price                           2720000.0\n",
      "Method                                  S\n",
      "SellerG                               Jas\n",
      "Date                            3/03/2018\n",
      "Distance                              6.8\n",
      "Postcode                           3016.0\n",
      "Bedroom2                              5.0\n",
      "Bathroom                              2.0\n",
      "Car                                   1.0\n",
      "Landsize                            655.0\n",
      "BuildingArea                        244.0\n",
      "YearBuilt                          1910.0\n",
      "CouncilArea      Hobsons Bay City Council\n",
      "Lattitude                       -37.86605\n",
      "Longtitude                      144.88686\n",
      "Regionname           Western Metropolitan\n",
      "Propertycount                      6380.0\n",
      "Name: 32245, dtype: object\n",
      "\n",
      "Recommendation 3: \n",
      "Suburb                           Donvale\n",
      "Address                    1 Bernarra Ct\n",
      "Rooms                                  7\n",
      "Type                                   h\n",
      "Price                          2705000.0\n",
      "Method                                 S\n",
      "SellerG                              Ray\n",
      "Date                           1/07/2017\n",
      "Distance                            16.1\n",
      "Postcode                          3111.0\n",
      "Bedroom2                             7.0\n",
      "Bathroom                             2.0\n",
      "Car                                  4.0\n",
      "Landsize                          5022.0\n",
      "BuildingArea                      409.54\n",
      "YearBuilt                         2004.0\n",
      "CouncilArea      Manningham City Council\n",
      "Lattitude                      -37.76598\n",
      "Longtitude                     145.19329\n",
      "Regionname          Eastern Metropolitan\n",
      "Propertycount                     4790.0\n",
      "Name: 14342, dtype: object\n"
     ]
    },
    {
     "name": "stdout",
     "output_type": "stream",
     "text": [
      "Searching...\n",
      " \n",
      "\n",
      "Recommendation 1: \n",
      "Suburb                    Carlton North\n",
      "Address                 967 Drummond St\n",
      "Rooms                                 4\n",
      "Type                                  h\n",
      "Price                         2718000.0\n",
      "Method                                S\n",
      "SellerG                             Ray\n",
      "Date                         11/03/2017\n",
      "Distance                            3.2\n",
      "Postcode                         3054.0\n",
      "Bedroom2                            4.0\n",
      "Bathroom                            2.0\n",
      "Car                                 0.0\n",
      "Landsize                          538.0\n",
      "BuildingArea                      142.0\n",
      "YearBuilt                        2015.0\n",
      "CouncilArea      Melbourne City Council\n",
      "Lattitude                      -37.7816\n",
      "Longtitude                     144.9714\n",
      "Regionname        Northern Metropolitan\n",
      "Propertycount                    3106.0\n",
      "Name: 2891, dtype: object\n",
      "\n",
      "Recommendation 2: \n",
      "Suburb                       Williamstown\n",
      "Address                      16 Hannan St\n",
      "Rooms                                   5\n",
      "Type                                    h\n",
      "Price                           2720000.0\n",
      "Method                                  S\n",
      "SellerG                               Jas\n",
      "Date                            3/03/2018\n",
      "Distance                              6.8\n",
      "Postcode                           3016.0\n",
      "Bedroom2                              5.0\n",
      "Bathroom                              2.0\n",
      "Car                                   1.0\n",
      "Landsize                            655.0\n",
      "BuildingArea                        244.0\n",
      "YearBuilt                          1910.0\n",
      "CouncilArea      Hobsons Bay City Council\n",
      "Lattitude                       -37.86605\n",
      "Longtitude                      144.88686\n",
      "Regionname           Western Metropolitan\n",
      "Propertycount                      6380.0\n",
      "Name: 32245, dtype: object\n",
      "\n",
      "Recommendation 3: \n",
      "Suburb                           Donvale\n",
      "Address                    1 Bernarra Ct\n",
      "Rooms                                  7\n",
      "Type                                   h\n",
      "Price                          2705000.0\n",
      "Method                                 S\n",
      "SellerG                              Ray\n",
      "Date                           1/07/2017\n",
      "Distance                            16.1\n",
      "Postcode                          3111.0\n",
      "Bedroom2                             7.0\n",
      "Bathroom                             2.0\n",
      "Car                                  4.0\n",
      "Landsize                          5022.0\n",
      "BuildingArea                      409.54\n",
      "YearBuilt                         2004.0\n",
      "CouncilArea      Manningham City Council\n",
      "Lattitude                      -37.76598\n",
      "Longtitude                     145.19329\n",
      "Regionname          Eastern Metropolitan\n",
      "Propertycount                     4790.0\n",
      "Name: 14342, dtype: object\n"
     ]
    }
   ],
   "source": [
    "price = widgets.IntSlider(value=500000, min=df[\"Price\"].min(), max=df[\"Price\"].max(), step=5000, description=\"Price:\")\n",
    "distance = widgets.FloatSlider(value=2, min=df[\"Distance\"].min(), max=df[\"Distance\"].max(), step=0.1, description=\"Distance:\")\n",
    "bedroom2 = widgets.Dropdown(options=range(int(df[\"Bedroom2\"].min()),int(df[\"Bedroom2\"].max()), 1), description=\"Bedrooms:\")\n",
    "bathroom = widgets.Dropdown(options=range(int(df[\"Bathroom\"].min()),int(df[\"Bathroom\"].max()), 1), description=\"Bathrooms:\")\n",
    "landsize = widgets.FloatSlider(value=20000, min=df[\"Landsize\"].min(), max=df[\"Landsize\"].max(), step=0.1, description=\"Landsize:\")\n",
    "buildingarea = widgets.FloatSlider(value=2, min=df[\"BuildingArea\"].min(), max=df[\"BuildingArea\"].max(), step=0.1, description=\"Building Area:\")\n",
    "year = widgets.IntSlider(value=1600, min=df[\"YearBuilt\"].min(), max=df[\"YearBuilt\"].max(), step=1, description=\"YearBuilt:\")\n",
    "\n",
    "button = widgets.Button(description=\"Search\", disabled=False)\n",
    "\n",
    "def on_button_click(b):\n",
    "    print(\"Searching...\\n \")\n",
    "    recommend(\n",
    "        int(price.value), \n",
    "        float(distance.value), \n",
    "        int(bedroom2.value), \n",
    "        int(bathroom.value), \n",
    "        float(landsize.value), \n",
    "        float(buildingarea.value), \n",
    "        int(year.value)\n",
    "    )\n",
    "\n",
    "button.on_click(on_button_click)\n",
    "\n",
    "display(price)\n",
    "display(distance)\n",
    "display(bedroom2)\n",
    "display(bathroom)\n",
    "display(landsize)\n",
    "display(buildingarea)\n",
    "display(year)\n",
    "display(button)\n",
    "\n"
   ]
  },
  {
   "cell_type": "markdown",
   "id": "e793d89f",
   "metadata": {},
   "source": [
    "Spending even a small amount of time generating recommendations using these sliders will show that this model would work best on a larger dataset with more densely packed data points to overcome the issue of making recommendations that are not similar to the search parameters although they are the most similar from the points available."
   ]
  },
  {
   "cell_type": "markdown",
   "id": "2db0ed41",
   "metadata": {},
   "source": [
    "### Conclusion"
   ]
  },
  {
   "cell_type": "markdown",
   "id": "6446700d",
   "metadata": {},
   "source": [
    "During this notebook, I loaded housing data for Melbourne suburbs and used to nearest neighbors model to make a content-based filtering algorithm to recommend the 3 most closely related properties based on the search parameters. Lastly, I added some sliders and a function to make for easier use and searches."
   ]
  },
  {
   "cell_type": "code",
   "execution_count": null,
   "id": "afde548d",
   "metadata": {},
   "outputs": [],
   "source": []
  }
 ],
 "metadata": {
  "kernelspec": {
   "display_name": "Python 3 (ipykernel)",
   "language": "python",
   "name": "python3"
  },
  "language_info": {
   "codemirror_mode": {
    "name": "ipython",
    "version": 3
   },
   "file_extension": ".py",
   "mimetype": "text/x-python",
   "name": "python",
   "nbconvert_exporter": "python",
   "pygments_lexer": "ipython3",
   "version": "3.9.0"
  }
 },
 "nbformat": 4,
 "nbformat_minor": 5
}
